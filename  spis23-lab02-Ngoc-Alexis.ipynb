{
  "nbformat": 4,
  "nbformat_minor": 0,
  "metadata": {
    "colab": {
      "provenance": [],
      "authorship_tag": "ABX9TyNpkz0bUB2XV8XqWVESQpQH",
      "include_colab_link": true
    },
    "kernelspec": {
      "name": "python3",
      "display_name": "Python 3"
    },
    "language_info": {
      "name": "python"
    }
  },
  "cells": [
    {
      "cell_type": "markdown",
      "metadata": {
        "id": "view-in-github",
        "colab_type": "text"
      },
      "source": [
        "<a href=\"https://colab.research.google.com/github/NGOCLE1206/spis23-lab01-Ngoc-Alexis/blob/main/%20spis23-lab02-Ngoc-Alexis.ipynb\" target=\"_parent\"><img src=\"https://colab.research.google.com/assets/colab-badge.svg\" alt=\"Open In Colab\"/></a>"
      ]
    },
    {
      "cell_type": "code",
      "execution_count": null,
      "metadata": {
        "id": "7Z7lFKcz7AZy",
        "colab": {
          "base_uri": "https://localhost:8080/"
        },
        "outputId": "4f527b16-b0c8-4315-c591-b959b71106ba"
      },
      "outputs": [
        {
          "output_type": "stream",
          "name": "stdout",
          "text": [
            "35\n"
          ]
        }
      ],
      "source": [
        "# The goal of this program is to practice Python constructs\n",
        "def sumTwo(a,b):\n",
        "  c = a + b\n",
        "  return c\n",
        "\n",
        "x = sumTwo(\"3\",\"5\")\n",
        "print(x)"
      ]
    },
    {
      "cell_type": "code",
      "source": [
        "def getNumber():\n",
        "  symbols = input(\"Enter a digit: \")\n",
        "  number = int(symbols)\n",
        "  return number\n",
        "\n",
        "add = \"\" #this will define the input from the user in order to actually add them later on\n",
        "\n",
        "while True:\n",
        "  input_num = getNumber() #creating a variable for this will make it easier to add them once the input from the user is true\n",
        "  if input_num >= 0: #this if statement will only add the numbers >= to 0\n",
        "    add += str(input_num) #this will add the inputs while converting them into string string and not values\n",
        "  else:\n",
        "    break\n",
        "\n",
        "print(add)"
      ],
      "metadata": {
        "id": "5DQp3rhZ9fEJ",
        "outputId": "bb4c6b74-e1bb-4463-b05e-dd8be2930082",
        "colab": {
          "base_uri": "https://localhost:8080/"
        }
      },
      "execution_count": 103,
      "outputs": [
        {
          "output_type": "stream",
          "name": "stdout",
          "text": [
            "Enter a digit: 4\n",
            "Enter a digit: 5\n",
            "Enter a digit: 2\n",
            "Enter a digit: -1\n",
            "452\n"
          ]
        }
      ]
    },
    {
      "cell_type": "code",
      "source": [
        "def sumDigits(x):\n",
        "\n",
        "  sum = 0\n",
        "  for Digit in str(x): # numbers are set to be a string\n",
        "    sum += int(Digit) # numbers are later turned into integers which make each number have a value and are added together\n",
        "  return sum\n",
        "\n",
        "x = 236\n",
        "print(sumDigits(x)) #numbers are added and result of the summation is printed"
      ],
      "metadata": {
        "colab": {
          "base_uri": "https://localhost:8080/"
        },
        "id": "-qB8QuHIn-GL",
        "outputId": "3856473b-2ff5-48e5-9e0e-7ff23dc36ca2"
      },
      "execution_count": 207,
      "outputs": [
        {
          "output_type": "stream",
          "name": "stdout",
          "text": [
            "11\n"
          ]
        }
      ]
    },
    {
      "cell_type": "code",
      "source": [
        "y = 236%100\n",
        "print(y)\n",
        "print(y//10)"
      ],
      "metadata": {
        "colab": {
          "base_uri": "https://localhost:8080/"
        },
        "id": "Lhj3nB1oJ_xt",
        "outputId": "6954e373-c4d1-4561-ba13-55478ed07629"
      },
      "execution_count": 141,
      "outputs": [
        {
          "output_type": "stream",
          "name": "stdout",
          "text": [
            "36\n",
            "3\n"
          ]
        }
      ]
    },
    {
      "cell_type": "code",
      "source": [
        "def sumDigits(x):\n",
        "  sum = 0\n",
        "  i=0\n",
        "  digit_count = len(str(x))\n",
        "  while i < digit_count:\n",
        "    digit = x%10\n",
        "    sum += int(digit)\n",
        "    i = i+1\n",
        "    x = x//10\n",
        "  return sum\n",
        "\n",
        "x = 123\n",
        "sumDigits(x)"
      ],
      "metadata": {
        "colab": {
          "base_uri": "https://localhost:8080/"
        },
        "id": "tKNerchEQfTe",
        "outputId": "bbe12ad8-ba2b-4077-cfdb-8cf49b2427f0"
      },
      "execution_count": 218,
      "outputs": [
        {
          "output_type": "execute_result",
          "data": {
            "text/plain": [
              "6"
            ]
          },
          "metadata": {},
          "execution_count": 218
        }
      ]
    },
    {
      "cell_type": "code",
      "source": [
        "def sumDigits(x):\n",
        "\n",
        "  sum = 0\n",
        "  for Digit in str(x): # numbers are set to be a string\n",
        "    sum += int(Digit) # numbers are later turned into integers which make each number have a value and are added together\n",
        "  return sum\n",
        "\n",
        "x = 236\n",
        "print(sumDigits(x)) #numbers are added and result of the summation is printed"
      ],
      "metadata": {
        "colab": {
          "base_uri": "https://localhost:8080/"
        },
        "id": "x4q3mjGZSdy7",
        "outputId": "66d0eb20-3df7-415d-fbd2-c865b184f0fd"
      },
      "execution_count": 215,
      "outputs": [
        {
          "output_type": "stream",
          "name": "stdout",
          "text": [
            "11\n"
          ]
        }
      ]
    }
  ]
}