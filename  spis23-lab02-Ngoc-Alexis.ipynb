{
  "nbformat": 4,
  "nbformat_minor": 0,
  "metadata": {
    "colab": {
      "provenance": [],
      "authorship_tag": "ABX9TyNwH16JGQY+mfuUpelH4o9E",
      "include_colab_link": true
    },
    "kernelspec": {
      "name": "python3",
      "display_name": "Python 3"
    },
    "language_info": {
      "name": "python"
    }
  },
  "cells": [
    {
      "cell_type": "markdown",
      "metadata": {
        "id": "view-in-github",
        "colab_type": "text"
      },
      "source": [
        "<a href=\"https://colab.research.google.com/github/NGOCLE1206/spis23-lab01-Ngoc-Alexis/blob/main/%20spis23-lab02-Ngoc-Alexis.ipynb\" target=\"_parent\"><img src=\"https://colab.research.google.com/assets/colab-badge.svg\" alt=\"Open In Colab\"/></a>"
      ]
    },
    {
      "cell_type": "code",
      "execution_count": null,
      "metadata": {
        "id": "7Z7lFKcz7AZy",
        "colab": {
          "base_uri": "https://localhost:8080/"
        },
        "outputId": "4f527b16-b0c8-4315-c591-b959b71106ba"
      },
      "outputs": [
        {
          "output_type": "stream",
          "name": "stdout",
          "text": [
            "35\n"
          ]
        }
      ],
      "source": [
        "# The goal of this program is to practice Python constructs\n",
        "def sumTwo(a,b):\n",
        "  c = a + b\n",
        "  return c\n",
        "\n",
        "x = sumTwo(\"3\",\"5\")\n",
        "print(x)"
      ]
    },
    {
      "cell_type": "code",
      "source": [
        "def getNumber():\n",
        "  symbols = input(\"Enter a digit: \")\n",
        "  number = int(symbols)\n",
        "  return number\n",
        "\n",
        "add = \"\" #this will define the input from the user in order to actually add them later on\n",
        "\n",
        "while True:\n",
        "  input_num = getNumber() #creating a variable for this will make it easier to add them once the input from the user is true\n",
        "  if input_num >= 0: #this if statement will only add the numbers >= to 0\n",
        "    add += str(input_num) #this will add the inputs while converting them into string string and not values\n",
        "  else:\n",
        "    break\n",
        "\n",
        "print(add)"
      ],
      "metadata": {
        "id": "5DQp3rhZ9fEJ",
        "outputId": "bb4c6b74-e1bb-4463-b05e-dd8be2930082",
        "colab": {
          "base_uri": "https://localhost:8080/"
        }
      },
      "execution_count": 103,
      "outputs": [
        {
          "output_type": "stream",
          "name": "stdout",
          "text": [
            "Enter a digit: 4\n",
            "Enter a digit: 5\n",
            "Enter a digit: 2\n",
            "Enter a digit: -1\n",
            "452\n"
          ]
        }
      ]
    },
    {
      "cell_type": "code",
      "source": [
        "def sumDigits(x):\n",
        "\n",
        "  sum = 0\n",
        "  for Digit in str(x): # numbers are set to be a string\n",
        "    sum += int(Digit) # numbers are later turned into integers which make each number have a value and are added together\n",
        "  return sum\n",
        "\n",
        "x = 236\n",
        "print(sumDigits(x)) #numbers are added and result of the summation is printed"
      ],
      "metadata": {
        "colab": {
          "base_uri": "https://localhost:8080/"
        },
        "id": "-qB8QuHIn-GL",
        "outputId": "1c09e483-c1bc-4e50-cfab-a3222ba43ef4"
      },
      "execution_count": 68,
      "outputs": [
        {
          "output_type": "stream",
          "name": "stdout",
          "text": [
            "11\n"
          ]
        }
      ]
    },
    {
      "cell_type": "code",
      "source": [
        "y = 236//1\n",
        "print(y)\n",
        "print(y%10)"
      ],
      "metadata": {
        "colab": {
          "base_uri": "https://localhost:8080/"
        },
        "id": "Lhj3nB1oJ_xt",
        "outputId": "a6a38e1b-1cca-47c2-cb47-07c65eacd230"
      },
      "execution_count": 105,
      "outputs": [
        {
          "output_type": "stream",
          "name": "stdout",
          "text": [
            "236\n",
            "6\n"
          ]
        }
      ]
    },
    {
      "cell_type": "code",
      "source": [
        "def sumDigits(x):\n",
        "  sum = 0\n",
        "  for y in len(str(x)):\n",
        "    sum += int(Digit)\n",
        "    y = x//1\n",
        "    digit = y%100\n",
        "    break\n",
        "  return sum\n",
        "\n",
        "x = 236\n",
        "print(x)\n",
        "print(y%100)"
      ],
      "metadata": {
        "colab": {
          "base_uri": "https://localhost:8080/"
        },
        "id": "tKNerchEQfTe",
        "outputId": "b4a2a592-2c58-4d90-d55d-e9f117e630b3"
      },
      "execution_count": 127,
      "outputs": [
        {
          "output_type": "stream",
          "name": "stdout",
          "text": [
            "236\n",
            "36\n"
          ]
        }
      ]
    },
    {
      "cell_type": "code",
      "source": [
        "236//1"
      ],
      "metadata": {
        "id": "x4q3mjGZSdy7",
        "outputId": "c5fcd359-ebfa-4b7f-bc4e-013f5b7697bb",
        "colab": {
          "base_uri": "https://localhost:8080/"
        }
      },
      "execution_count": 113,
      "outputs": [
        {
          "output_type": "execute_result",
          "data": {
            "text/plain": [
              "236"
            ]
          },
          "metadata": {},
          "execution_count": 113
        }
      ]
    }
  ]
}