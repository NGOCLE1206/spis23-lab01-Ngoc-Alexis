{
  "nbformat": 4,
  "nbformat_minor": 0,
  "metadata": {
    "colab": {
      "provenance": [],
      "authorship_tag": "ABX9TyOB0R8N5WG222cVl/N0/rMd",
      "include_colab_link": true
    },
    "kernelspec": {
      "name": "python3",
      "display_name": "Python 3"
    },
    "language_info": {
      "name": "python"
    }
  },
  "cells": [
    {
      "cell_type": "markdown",
      "metadata": {
        "id": "view-in-github",
        "colab_type": "text"
      },
      "source": [
        "<a href=\"https://colab.research.google.com/github/NGOCLE1206/spis23-lab01-Ngoc-Alexis/blob/main/%20spis23-lab02-Ngoc-Alexis.ipynb\" target=\"_parent\"><img src=\"https://colab.research.google.com/assets/colab-badge.svg\" alt=\"Open In Colab\"/></a>"
      ]
    },
    {
      "cell_type": "code",
      "execution_count": null,
      "metadata": {
        "id": "7Z7lFKcz7AZy",
        "colab": {
          "base_uri": "https://localhost:8080/"
        },
        "outputId": "4f527b16-b0c8-4315-c591-b959b71106ba"
      },
      "outputs": [
        {
          "output_type": "stream",
          "name": "stdout",
          "text": [
            "35\n"
          ]
        }
      ],
      "source": [
        "# The goal of this program is to practice Python constructs\n",
        "def sumTwo(a,b):\n",
        "  c = a + b\n",
        "  return c\n",
        "\n",
        "x = sumTwo(\"3\",\"5\")\n",
        "print(x)"
      ]
    },
    {
      "cell_type": "code",
      "source": [
        "def getNumber():\n",
        "  symbols = input(\"Enter a digit: \")\n",
        "  number = int(symbols)\n",
        "  return number\n",
        "\n",
        "add = \"\" #this will define the input from the user in order to actually add them later on\n",
        "\n",
        "while True:\n",
        "  input_num = getNumber() #creating a variable for this will make it easier to add them once the input from the user is true\n",
        "  if input_num >= 0: #this if statement will only add the numbers >= to 0\n",
        "    add += str(input_num) #this will add the inputs while converting them into string string and not values\n",
        "  else:\n",
        "    break\n",
        "\n",
        "print(add)"
      ],
      "metadata": {
        "id": "5DQp3rhZ9fEJ",
        "outputId": "bb4c6b74-e1bb-4463-b05e-dd8be2930082",
        "colab": {
          "base_uri": "https://localhost:8080/"
        }
      },
      "execution_count": 103,
      "outputs": [
        {
          "output_type": "stream",
          "name": "stdout",
          "text": [
            "Enter a digit: 4\n",
            "Enter a digit: 5\n",
            "Enter a digit: 2\n",
            "Enter a digit: -1\n",
            "452\n"
          ]
        }
      ]
    },
    {
      "cell_type": "code",
      "source": [
        "def sumDigits(x):\n",
        "  s = 0\n",
        "  # You will need to complete this function\n",
        "  return sum"
      ],
      "metadata": {
        "id": "-qB8QuHIn-GL"
      },
      "execution_count": 102,
      "outputs": []
    }
  ]
}