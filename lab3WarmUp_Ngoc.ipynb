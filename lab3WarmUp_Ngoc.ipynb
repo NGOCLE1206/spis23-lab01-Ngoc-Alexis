{
  "nbformat": 4,
  "nbformat_minor": 0,
  "metadata": {
    "colab": {
      "provenance": [],
      "authorship_tag": "ABX9TyPGjLD9wuh4zOwYC91ARdgQ",
      "include_colab_link": true
    },
    "kernelspec": {
      "name": "python3",
      "display_name": "Python 3"
    },
    "language_info": {
      "name": "python"
    }
  },
  "cells": [
    {
      "cell_type": "markdown",
      "metadata": {
        "id": "view-in-github",
        "colab_type": "text"
      },
      "source": [
        "<a href=\"https://colab.research.google.com/github/ucsd-cse-spis-2023/spis23-lab01-Ngoc-Alexis/blob/main/lab3WarmUp_Ngoc.ipynb\" target=\"_parent\"><img src=\"https://colab.research.google.com/assets/colab-badge.svg\" alt=\"Open In Colab\"/></a>"
      ]
    },
    {
      "cell_type": "code",
      "execution_count": 1,
      "metadata": {
        "id": "-DbhMtL74nfp",
        "colab": {
          "base_uri": "https://localhost:8080/"
        },
        "outputId": "965eb309-7485-4523-b55c-5144230e52d4"
      },
      "outputs": [
        {
          "output_type": "stream",
          "name": "stdout",
          "text": [
            "Collecting ColabTurtlePlus\n",
            "  Downloading ColabTurtlePlus-2.0.1-py3-none-any.whl (31 kB)\n",
            "Installing collected packages: ColabTurtlePlus\n",
            "Successfully installed ColabTurtlePlus-2.0.1\n"
          ]
        }
      ],
      "source": [
        "!pip install ColabTurtlePlus"
      ]
    },
    {
      "cell_type": "code",
      "source": [
        "from ColabTurtlePlus.Turtle import *"
      ],
      "metadata": {
        "colab": {
          "base_uri": "https://localhost:8080/"
        },
        "id": "gq0rsWMA5Gxi",
        "outputId": "9e2a3322-61af-4ec2-9315-2873c816003b"
      },
      "execution_count": 2,
      "outputs": [
        {
          "output_type": "stream",
          "name": "stdout",
          "text": [
            "Put clearscreen() as the first line in a cell (after the import command) to re-run turtle commands in the cell\n"
          ]
        }
      ]
    },
    {
      "cell_type": "code",
      "source": [
        "clearscreen()\n",
        "\n",
        "def draw_picture(the_turtle):\n",
        "\n",
        "    ''' Draw a simple picture using a turtle '''\n",
        "\n",
        "    Turtle()\n",
        "    the_turtle.forward(100)\n",
        "\n",
        "    the_turtle.left(90)\n",
        "\n",
        "    the_turtle.forward(100)\n",
        "\n",
        "    the_turtle.left(90)\n",
        "\n",
        "    the_turtle.forward(100)\n",
        "\n",
        "    the_turtle.left(90)\n",
        "\n",
        "    the_turtle.forward(100)\n",
        "\n",
        "    the_turtle.left(90)\n",
        "\n",
        "\n",
        "\n",
        "my_turtle = Turtle()      # Create a new Turtle object\n",
        "\n",
        "my_turtle.speed(1)\n",
        "\n",
        "draw_picture(my_turtle)   # make the new Turtle draw the shape\n",
        "\n",
        "turtle1 = Turtle()\n",
        "\n",
        "turtle2 = Turtle()\n",
        "\n",
        "turtle1.setpos(-50, -50)\n",
        "\n",
        "turtle2.setpos(200, 100)\n",
        "\n",
        "turtle1.forward(100)\n",
        "\n",
        "turtle2.left(90)\n",
        "\n",
        "turtle2.forward(100)"
      ],
      "metadata": {
        "colab": {
          "base_uri": "https://localhost:8080/",
          "height": 621
        },
        "id": "l1rDQ9Xk5Jwv",
        "outputId": "b47e4799-e6c2-4efd-f387-1f742301d9e6"
      },
      "execution_count": 12,
      "outputs": [
        {
          "output_type": "display_data",
          "data": {
            "text/plain": [
              "<IPython.core.display.HTML object>"
            ],
            "text/html": [
              "\n",
              "      <svg width=\"800\" height=\"600\">  \n",
              "        <rect width=\"100%\" height=\"100%\" style=\"fill:white;stroke:;stroke-width:1\"/>\n",
              "        \n",
              "        \n",
              "        <line x1=\"400.0\" y1=\"300.0\" x2=\"500.0\" y2=\"300.0\" stroke-linecap=\"round\" style=\"stroke:black;stroke-width:1\" /><line x1=\"500.0\" y1=\"300.0\" x2=\"500.0\" y2=\"200.0\" stroke-linecap=\"round\" style=\"stroke:black;stroke-width:1\" /><line x1=\"500.0\" y1=\"200.0\" x2=\"400.0\" y2=\"200.0\" stroke-linecap=\"round\" style=\"stroke:black;stroke-width:1\" /><line x1=\"400.0\" y1=\"200.0\" x2=\"400.0\" y2=\"300.0\" stroke-linecap=\"round\" style=\"stroke:black;stroke-width:1\" /><line x1=\"400.0\" y1=\"300.0\" x2=\"350.0\" y2=\"350.0\" stroke-linecap=\"round\" style=\"stroke:black;stroke-width:1\" /><line x1=\"350.0\" y1=\"350.0\" x2=\"450.0\" y2=\"350.0\" stroke-linecap=\"round\" style=\"stroke:black;stroke-width:1\" /><line x1=\"400.0\" y1=\"300.0\" x2=\"600.0\" y2=\"200.0\" stroke-linecap=\"round\" style=\"stroke:black;stroke-width:1\" /><line x1=\"600.0\" y1=\"200.0\" x2=\"600.0\" y2=\"190.0\" stroke-linecap=\"round\" style=\"stroke:black;stroke-width:1\" /><line x1=\"600.0\" y1=\"190.0\" x2=\"600.0\" y2=\"180.0\" stroke-linecap=\"round\" style=\"stroke:black;stroke-width:1\" /><line x1=\"600.0\" y1=\"180.0\" x2=\"600.0\" y2=\"170.0\" stroke-linecap=\"round\" style=\"stroke:black;stroke-width:1\" /><line x1=\"600.0\" y1=\"170.0\" x2=\"600.0\" y2=\"160.0\" stroke-linecap=\"round\" style=\"stroke:black;stroke-width:1\" /><line x1=\"600.0\" y1=\"160.0\" x2=\"600.0\" y2=\"150.0\" stroke-linecap=\"round\" style=\"stroke:black;stroke-width:1\" /><line x1=\"600.0\" y1=\"150.0\" x2=\"600.0\" y2=\"140.0\" stroke-linecap=\"round\" style=\"stroke:black;stroke-width:1\" /><line x1=\"600.0\" y1=\"140.0\" x2=\"600.0\" y2=\"130.0\" stroke-linecap=\"round\" style=\"stroke:black;stroke-width:1\" /><line x1=\"600.0\" y1=\"130.0\" x2=\"600.0\" y2=\"120.0\" stroke-linecap=\"round\" style=\"stroke:black;stroke-width:1\" /><line x1=\"600.0\" y1=\"120.0\" x2=\"600.0\" y2=\"110.0\" stroke-linecap=\"round\" style=\"stroke:black;stroke-width:1\" /><line x1=\"600.0\" y1=\"110.0\" x2=\"600.0\" y2=\"100.0\" stroke-linecap=\"round\" style=\"stroke:black;stroke-width:1\" />\n",
              "        \n",
              "        \n",
              "        <g id=\"classic\" visibility=\"visible\" transform=\"rotate(-90,400.0,300.0) translate(400.0, 300.0)\">\n",
              "<polygon points=\"-5,-4.5 0,-2.5 5,-4.5 0,4.5\" transform=\"skewX(0) scale(1,1)\" style=\"stroke:black;fill:black;stroke-width:1\" />\n",
              "</g><g id=\"classic\" visibility=\"visible\" transform=\"rotate(-90,400.0,300.0) translate(400.0, 300.0)\">\n",
              "<polygon points=\"-5,-4.5 0,-2.5 5,-4.5 0,4.5\" transform=\"skewX(0) scale(1,1)\" style=\"stroke:black;fill:black;stroke-width:1\" />\n",
              "</g><g id=\"classic\" visibility=\"visible\" transform=\"rotate(-90,450.0,350.0) translate(450.0, 350.0)\">\n",
              "<polygon points=\"-5,-4.5 0,-2.5 5,-4.5 0,4.5\" transform=\"skewX(0) scale(1,1)\" style=\"stroke:black;fill:black;stroke-width:1\" />\n",
              "</g><g id=\"classic\" visibility=\"visible\" transform=\"rotate(180,600.0,100.0) translate(600.0, 100.0)\">\n",
              "<polygon points=\"-5,-4.5 0,-2.5 5,-4.5 0,4.5\" transform=\"skewX(0) scale(1,1)\" style=\"stroke:black;fill:black;stroke-width:1\" />\n",
              "</g>\n",
              "      </svg>\n",
              "    "
            ]
          },
          "metadata": {}
        }
      ]
    },
    {
      "cell_type": "code",
      "source": [
        "# What happens when you run this cell?\n",
        "  # I get the result a turtle going around and the created the square\n"
      ],
      "metadata": {
        "id": "ceWMeBit5SaJ"
      },
      "execution_count": null,
      "outputs": []
    },
    {
      "cell_type": "code",
      "source": [
        "#   Can you explain what’s happening?\n",
        "    #   I can see the first turtle is going around to make the square shape and then at the endpoint of the turtle number 1 have another 2 turtle to run to diffenent way _ NW and SE\n",
        ""
      ],
      "metadata": {
        "id": "rjX2PxHI7HDE"
      },
      "execution_count": null,
      "outputs": []
    },
    {
      "cell_type": "code",
      "source": [
        "# Draw the first letter of my First Name (N)\n",
        "\n",
        "clearscreen()\n",
        "\n",
        "def draw_A(the_turtle):\n",
        "    the_turtle.setheading(90)\n",
        "    the_turtle.forward(100)\n",
        "    the_turtle.right (135)\n",
        "    the_turtle.forward(140)\n",
        "    the_turtle.left (135)\n",
        "    the_turtle.forward(100)\n",
        "\n",
        "my_turtle = Turtle()      # Create a new Turtle object\n",
        "\n",
        "my_turtle.speed(1)\n",
        "draw_A(my_turtle)\n",
        "  # Close the turtle graphics window when clicked\n"
      ],
      "metadata": {
        "id": "UtFNmB1P80rm",
        "outputId": "afef8784-1d9d-4111-a0c2-4d86dd4323dc",
        "colab": {
          "base_uri": "https://localhost:8080/",
          "height": 621
        }
      },
      "execution_count": 46,
      "outputs": [
        {
          "output_type": "display_data",
          "data": {
            "text/plain": [
              "<IPython.core.display.HTML object>"
            ],
            "text/html": [
              "\n",
              "      <svg width=\"800\" height=\"600\">  \n",
              "        <rect width=\"100%\" height=\"100%\" style=\"fill:white;stroke:;stroke-width:1\"/>\n",
              "        \n",
              "        \n",
              "        <line x1=\"400.0\" y1=\"300.0\" x2=\"400.0\" y2=\"200.0\" stroke-linecap=\"round\" style=\"stroke:black;stroke-width:1\" /><line x1=\"400.0\" y1=\"200.0\" x2=\"498.995\" y2=\"298.995\" stroke-linecap=\"round\" style=\"stroke:black;stroke-width:1\" /><line x1=\"498.995\" y1=\"298.995\" x2=\"498.995\" y2=\"288.995\" stroke-linecap=\"round\" style=\"stroke:black;stroke-width:1\" /><line x1=\"498.995\" y1=\"288.995\" x2=\"498.995\" y2=\"278.995\" stroke-linecap=\"round\" style=\"stroke:black;stroke-width:1\" /><line x1=\"498.995\" y1=\"278.995\" x2=\"498.995\" y2=\"268.995\" stroke-linecap=\"round\" style=\"stroke:black;stroke-width:1\" /><line x1=\"498.995\" y1=\"268.995\" x2=\"498.995\" y2=\"258.995\" stroke-linecap=\"round\" style=\"stroke:black;stroke-width:1\" /><line x1=\"498.995\" y1=\"258.995\" x2=\"498.995\" y2=\"248.995\" stroke-linecap=\"round\" style=\"stroke:black;stroke-width:1\" /><line x1=\"498.995\" y1=\"248.995\" x2=\"498.995\" y2=\"238.995\" stroke-linecap=\"round\" style=\"stroke:black;stroke-width:1\" /><line x1=\"498.995\" y1=\"238.995\" x2=\"498.995\" y2=\"228.995\" stroke-linecap=\"round\" style=\"stroke:black;stroke-width:1\" /><line x1=\"498.995\" y1=\"228.995\" x2=\"498.995\" y2=\"218.995\" stroke-linecap=\"round\" style=\"stroke:black;stroke-width:1\" /><line x1=\"498.995\" y1=\"218.995\" x2=\"498.995\" y2=\"208.995\" stroke-linecap=\"round\" style=\"stroke:black;stroke-width:1\" /><line x1=\"498.995\" y1=\"208.995\" x2=\"498.995\" y2=\"198.995\" stroke-linecap=\"round\" style=\"stroke:black;stroke-width:1\" />\n",
              "        \n",
              "        \n",
              "        <g id=\"classic\" visibility=\"visible\" transform=\"rotate(180,498.995,198.995) translate(498.995, 198.995)\">\n",
              "<polygon points=\"-5,-4.5 0,-2.5 5,-4.5 0,4.5\" transform=\"skewX(0) scale(1,1)\" style=\"stroke:black;fill:black;stroke-width:1\" />\n",
              "</g>\n",
              "      </svg>\n",
              "    "
            ]
          },
          "metadata": {}
        }
      ]
    },
    {
      "cell_type": "code",
      "source": [
        "# Draw the first letter of my First Name (N)\n",
        "\n",
        "clearscreen()\n",
        "\n",
        "def draw_N(the_turtle):\n",
        "    the_turtle.setheading(90)\n",
        "    the_turtle.forward(100)\n",
        "    the_turtle.right (135)\n",
        "    the_turtle.forward(140)\n",
        "    the_turtle.left (135)\n",
        "    the_turtle.forward(100)\n",
        "\n",
        "my_turtle = Turtle()      # Create a new Turtle object\n",
        "turtle2 = Turtle()\n",
        "turtle2.penup()\n",
        "turtle2.setpos(200, 100)\n",
        "turtle2.pendown()\n",
        "turtle2.forward(100)\n",
        "turtle2.penup()\n",
        "turtle2.backward(100)\n",
        "turtle2.right(90)\n",
        "turtle2.pendown()\n",
        "turtle2.forward(100)\n",
        "turtle2.left(90)\n",
        "turtle2.forward(100)\n",
        "\n",
        "\n",
        "\n",
        "my_turtle.speed(13)\n",
        "draw_N(my_turtle)\n"
      ],
      "metadata": {
        "id": "Njgwca-2C8i6",
        "outputId": "7f14d011-65b9-4dd7-ac79-2d7ee5bb3ff4",
        "colab": {
          "base_uri": "https://localhost:8080/",
          "height": 621
        }
      },
      "execution_count": 67,
      "outputs": [
        {
          "output_type": "display_data",
          "data": {
            "text/plain": [
              "<IPython.core.display.HTML object>"
            ],
            "text/html": [
              "\n",
              "      <svg width=\"800\" height=\"600\">  \n",
              "        <rect width=\"100%\" height=\"100%\" style=\"fill:white;stroke:;stroke-width:1\"/>\n",
              "        \n",
              "        \n",
              "        <line x1=\"400.0\" y1=\"300.0\" x2=\"400.0\" y2=\"200.0\" stroke-linecap=\"round\" style=\"stroke:black;stroke-width:1\" /><line x1=\"400.0\" y1=\"200.0\" x2=\"498.995\" y2=\"298.995\" stroke-linecap=\"round\" style=\"stroke:black;stroke-width:1\" /><line x1=\"498.995\" y1=\"298.995\" x2=\"498.995\" y2=\"288.995\" stroke-linecap=\"round\" style=\"stroke:black;stroke-width:1\" /><line x1=\"498.995\" y1=\"288.995\" x2=\"498.995\" y2=\"278.995\" stroke-linecap=\"round\" style=\"stroke:black;stroke-width:1\" /><line x1=\"498.995\" y1=\"278.995\" x2=\"498.995\" y2=\"268.995\" stroke-linecap=\"round\" style=\"stroke:black;stroke-width:1\" /><line x1=\"498.995\" y1=\"268.995\" x2=\"498.995\" y2=\"258.995\" stroke-linecap=\"round\" style=\"stroke:black;stroke-width:1\" /><line x1=\"498.995\" y1=\"258.995\" x2=\"498.995\" y2=\"248.995\" stroke-linecap=\"round\" style=\"stroke:black;stroke-width:1\" /><line x1=\"498.995\" y1=\"248.995\" x2=\"498.995\" y2=\"238.995\" stroke-linecap=\"round\" style=\"stroke:black;stroke-width:1\" /><line x1=\"498.995\" y1=\"238.995\" x2=\"498.995\" y2=\"228.995\" stroke-linecap=\"round\" style=\"stroke:black;stroke-width:1\" /><line x1=\"498.995\" y1=\"228.995\" x2=\"498.995\" y2=\"218.995\" stroke-linecap=\"round\" style=\"stroke:black;stroke-width:1\" /><line x1=\"498.995\" y1=\"218.995\" x2=\"498.995\" y2=\"208.995\" stroke-linecap=\"round\" style=\"stroke:black;stroke-width:1\" /><line x1=\"498.995\" y1=\"208.995\" x2=\"498.995\" y2=\"198.995\" stroke-linecap=\"round\" style=\"stroke:black;stroke-width:1\" /><line x1=\"600.0\" y1=\"200.0\" x2=\"700.0\" y2=\"200.0\" stroke-linecap=\"round\" style=\"stroke:black;stroke-width:1\" /><line x1=\"600.0\" y1=\"200.0\" x2=\"600.0\" y2=\"300.0\" stroke-linecap=\"round\" style=\"stroke:black;stroke-width:1\" /><line x1=\"600.0\" y1=\"300.0\" x2=\"700.0\" y2=\"300.0\" stroke-linecap=\"round\" style=\"stroke:black;stroke-width:1\" />\n",
              "        \n",
              "        \n",
              "        <g id=\"classic\" visibility=\"visible\" transform=\"rotate(180,498.995,198.995) translate(498.995, 198.995)\">\n",
              "<polygon points=\"-5,-4.5 0,-2.5 5,-4.5 0,4.5\" transform=\"skewX(0) scale(1,1)\" style=\"stroke:black;fill:black;stroke-width:1\" />\n",
              "</g><g id=\"classic\" visibility=\"visible\" transform=\"rotate(-90,700.0,300.0) translate(700.0, 300.0)\">\n",
              "<polygon points=\"-5,-4.5 0,-2.5 5,-4.5 0,4.5\" transform=\"skewX(0) scale(1,1)\" style=\"stroke:black;fill:black;stroke-width:1\" />\n",
              "</g>\n",
              "      </svg>\n",
              "    "
            ]
          },
          "metadata": {}
        }
      ]
    }
  ]
}